{
 "cells": [
  {
   "cell_type": "markdown",
   "metadata": {},
   "source": [
    "### Kotlin standard library is made up of extension functions for standard Java classes\n",
    "\n",
    "#### Future reference: Anko library (https://github.com/kotlin/anko)\n",
    "- provides extension functions that make Android-API Kotlin friendly\n",
    "- consists of many community developed libs that provide Kotlin-friendly wrappers around major 3rd party libraries such as SPRING.\n",
    "\n",
    "\n",
    "#### IDE = IntelliJ\n",
    "- Darcula, line comment & block = C975D6"
   ]
  },
  {
   "cell_type": "markdown",
   "metadata": {},
   "source": [
    "#### smart-casts\n",
    " - using \"is\" equivalent of InstanceOf in Java \n",
    " - if you check the variable of a certain type, you dont need to cast it afterward\n",
    " - you can use it as having the type you checked for"
   ]
  },
  {
   "cell_type": "markdown",
   "metadata": {},
   "source": [
    "#### blocks w/ \"when\"\n",
    "- \"the last expression in the block is the result /return of when\"\n",
    "- does not apply to to regular functions\n",
    "- a function can either have an expression body that cant be a block or a block body with explicit return inside"
   ]
  },
  {
   "cell_type": "markdown",
   "metadata": {},
   "source": [
    "#### range\n",
    "- interval between two values usually numbers: a start and an end\n",
    "- half closed range "
   ]
  },
  {
   "cell_type": "code",
   "execution_count": null,
   "metadata": {},
   "outputs": [],
   "source": [
    "// sample declaration:\n",
    "val oneToTen = 1..10\n",
    "    \n",
    "for (x in 0..size-1)\n",
    "    OR...\n",
    "for (x in 0 until size)"
   ]
  },
  {
   "cell_type": "markdown",
   "metadata": {},
   "source": [
    "#### Top level properties & functions\n",
    "- declare a function in kotlin file/class, this can be called anywhere\n",
    "- specify its JvmName annotation <@file:JvmName(\"MyFunction\")>\n",
    "- create a Java class, import the JvmName and call the method"
   ]
  },
  {
   "cell_type": "markdown",
   "metadata": {},
   "source": [
    "#### Extension method\n",
    "- you can directly access the methods and properties of the class you're extending.\n",
    "- still no access to protected & private members (encapsulation)\n",
    "- thus, \"this.<method or property>\", call can be done w/o \"this\"\n",
    "- needs to be imported on the entire project\n",
    "- No Overriding for extension method in a subclass (static method)"
   ]
  },
  {
   "cell_type": "markdown",
   "metadata": {},
   "source": [
    "#### \"as\" keyword\n",
    "- in imports is used to change the name of the class / functions you're importing\n",
    "- useful when you're dealing with several functions with same name in different packages"
   ]
  },
  {
   "cell_type": "code",
   "execution_count": null,
   "metadata": {},
   "outputs": [],
   "source": [
    "import strings.lastChar as last"
   ]
  },
  {
   "cell_type": "markdown",
   "metadata": {},
   "source": [
    "### infix\n",
    "- notation that lets you call some one-argument functions w/o ceremony"
   ]
  },
  {
   "cell_type": "code",
   "execution_count": null,
   "metadata": {},
   "outputs": [],
   "source": [
    "// \"to\" in this code is a method invocation of a special kind, called an \"infix call\"\n",
    "// can be used in regular methods and extension functions that have one required parameter\n",
    "\n",
    "    val maps = mapOf (1 to \"one\", 7 to \"seven\", 53 to \"fifty-three\")\n",
    "\n",
    "    infix fun Any.to (other :Any) = Pair (this, other)"
   ]
  },
  {
   "cell_type": "markdown",
   "metadata": {},
   "source": [
    "### vararg\n",
    "- allows you to declare a function taking an arbitrary number of arguments\n",
    "\n",
    "### destructing declarations\n",
    "- allows you to unpack a single composite value into multiple variables"
   ]
  },
  {
   "cell_type": "code",
   "execution_count": null,
   "metadata": {},
   "outputs": [],
   "source": [
    "// Sample:\n",
    "result = val (number, name) =  1 to \"one\""
   ]
  },
  {
   "cell_type": "markdown",
   "metadata": {},
   "source": [
    "### Regular expression is written in a triple-quoted string\n",
    "- no need to escape any characters (incl. backslash, so you can encode dot \"\\.\" instead of writing \"\\\\.\" like in ordinary string literals)\n",
    "\n",
    "        (.+) -> means any character pattern"
   ]
  },
  {
   "cell_type": "markdown",
   "metadata": {},
   "source": [
    "The 2 variables to parse:"
   ]
  },
  {
   "cell_type": "code",
   "execution_count": null,
   "metadata": {},
   "outputs": [],
   "source": [
    "val mydollars = \"\"\"${'$'}99.23\"\"\"\n",
    "\n",
    "val kotlinLogo = \"\"\"|  //\n",
    "                    .| //\n",
    "                    .|/  \\\"\"\"\n",
    "                    "
   ]
  },
  {
   "cell_type": "markdown",
   "metadata": {},
   "source": [
    "#### Parse manually"
   ]
  },
  {
   "cell_type": "code",
   "execution_count": null,
   "metadata": {},
   "outputs": [],
   "source": [
    "fun parsePath (path :String) {\n",
    "    val directory = path.substringBeforeLast (\"\\\\\")\n",
    "    val fullName = path.substringAfterLast(\"\\\\\")\n",
    "\n",
    "    val fileName = fullName.substringBeforeLast(\".\")\n",
    "    val extension = fullName.substringAfterLast(\".\")\n",
    "\n",
    "    println (\">>>Dir: $directory, name: $fileName, ext: $extension\")\n",
    "}"
   ]
  },
  {
   "cell_type": "markdown",
   "metadata": {},
   "source": [
    "#### Parse using regex"
   ]
  },
  {
   "cell_type": "code",
   "execution_count": null,
   "metadata": {},
   "outputs": [],
   "source": [
    "fun parsePathWithRegex (path : String) {\n",
    "    // (.+) :Any character pattern\n",
    "    val regex = \"\"\"(.+)\\\\(.+)\\.(.+)\"\"\".toRegex()  // remember the syntax, very important when using regex!\n",
    "    val matchresult = regex.matchEntire (path)\n",
    "\n",
    "    if (matchresult != null) {\n",
    "        val (directory, filename, extension) = matchresult.destructured\n",
    "        println (\"-->Dir: $directory, name: $filename, ext: $extension\")\n",
    "    }\n",
    "}"
   ]
  },
  {
   "cell_type": "code",
   "execution_count": null,
   "metadata": {},
   "outputs": [],
   "source": [
    "// method call at main()\n",
    "println (mydollars)\n",
    "println (\"${kotlinLogo.trimMargin (\".\")}\\n\")\n",
    "\n",
    "parsePathWithRegex(\"D:\\\\02  My Documents\\\\02 bookish\\\\Python\\\\A Course in Machine Learningl.pdf\")\n",
    "parsePath(\"D:\\\\03_HubbleSpace\\\\Lightroom_Set-Up.exe\")"
   ]
  },
  {
   "cell_type": "raw",
   "metadata": {},
   "source": [
    "// Output:\n",
    "    $99.23\n",
    "    |  //\n",
    "    | //\n",
    "    |/  \\\n",
    "\n",
    "    -->Dir: D:\\02  My Documents\\02 bookish\\Python, name: A Course in Machine Learningl, ext: pdf\n",
    "    >>>Dir: D:\\03_HubbleSpace, name: Lightroom_Set-Up, ext: exe"
   ]
  },
  {
   "cell_type": "code",
   "execution_count": null,
   "metadata": {},
   "outputs": [],
   "source": []
  }
 ],
 "metadata": {
  "kernelspec": {
   "display_name": "Python 3",
   "language": "python",
   "name": "python3"
  },
  "language_info": {
   "codemirror_mode": {
    "name": "ipython",
    "version": 3
   },
   "file_extension": ".py",
   "mimetype": "text/x-python",
   "name": "python",
   "nbconvert_exporter": "python",
   "pygments_lexer": "ipython3",
   "version": "3.6.4"
  }
 },
 "nbformat": 4,
 "nbformat_minor": 2
}
